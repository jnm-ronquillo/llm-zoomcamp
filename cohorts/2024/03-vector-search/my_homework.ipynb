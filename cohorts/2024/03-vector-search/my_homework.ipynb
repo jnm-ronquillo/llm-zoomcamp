{
 "cells": [
  {
   "cell_type": "code",
   "execution_count": null,
   "metadata": {},
   "outputs": [],
   "source": [
    "%pip install -U sentence-transformers"
   ]
  },
  {
   "cell_type": "code",
   "execution_count": null,
   "metadata": {},
   "outputs": [],
   "source": [
    "model_name = 'multi-qa-distilbert-cos-v1'\n",
    "from sentence_transformers import SentenceTransformer\n",
    "embedding_model = SentenceTransformer(model_name)"
   ]
  },
  {
   "cell_type": "code",
   "execution_count": 13,
   "metadata": {},
   "outputs": [
    {
     "data": {
      "text/plain": [
       "(768,)"
      ]
     },
     "execution_count": 13,
     "metadata": {},
     "output_type": "execute_result"
    }
   ],
   "source": [
    "user_question = \"I just discovered the course. Can I still join it?\"\n",
    "v = embedding_model.encode(user_question)\n",
    "v.shape"
   ]
  },
  {
   "cell_type": "code",
   "execution_count": 14,
   "metadata": {},
   "outputs": [
    {
     "data": {
      "text/plain": [
       "0.078222655"
      ]
     },
     "execution_count": 14,
     "metadata": {},
     "output_type": "execute_result"
    }
   ],
   "source": [
    "v[0]"
   ]
  },
  {
   "cell_type": "code",
   "execution_count": 5,
   "metadata": {},
   "outputs": [],
   "source": [
    "import requests \n",
    "\n",
    "base_url = 'https://github.com/DataTalksClub/llm-zoomcamp/blob/main'\n",
    "relative_url = '03-vector-search/eval/documents-with-ids.json'\n",
    "docs_url = f'{base_url}/{relative_url}?raw=1'\n",
    "docs_response = requests.get(docs_url)\n",
    "documents = docs_response.json()"
   ]
  },
  {
   "cell_type": "code",
   "execution_count": 31,
   "metadata": {},
   "outputs": [
    {
     "data": {
      "text/plain": [
       "{'text': \"The purpose of this document is to capture frequently asked technical questions\\nThe exact day and hour of the course will be 15th Jan 2024 at 17h00. The course will start with the first  “Office Hours'' live.1\\nSubscribe to course public Google Calendar (it works from Desktop only).\\nRegister before the course starts using this link.\\nJoin the course Telegram channel with announcements.\\nDon’t forget to register in DataTalks.Club's Slack and join the channel.\",\n",
       " 'section': 'General course-related questions',\n",
       " 'question': 'Course - When will the course start?',\n",
       " 'course': 'data-engineering-zoomcamp',\n",
       " 'id': 'c02e79ef'}"
      ]
     },
     "execution_count": 31,
     "metadata": {},
     "output_type": "execute_result"
    }
   ],
   "source": [
    "documents[0]"
   ]
  },
  {
   "cell_type": "code",
   "execution_count": 9,
   "metadata": {},
   "outputs": [
    {
     "data": {
      "text/plain": [
       "375"
      ]
     },
     "execution_count": 9,
     "metadata": {},
     "output_type": "execute_result"
    }
   ],
   "source": [
    "documents_ml = filter(lambda x: x['course'] == 'machine-learning-zoomcamp', documents)\n",
    "\n",
    "documents_ml = list(documents_ml)\n",
    "len(documents_ml)"
   ]
  },
  {
   "cell_type": "code",
   "execution_count": 24,
   "metadata": {},
   "outputs": [
    {
     "data": {
      "text/plain": [
       "(375, 768)"
      ]
     },
     "execution_count": 24,
     "metadata": {},
     "output_type": "execute_result"
    }
   ],
   "source": [
    "import numpy as np\n",
    "embeddings = []\n",
    "for doc in documents_ml:\n",
    "    qa_text = f\"{doc['question']} {doc['text']}\"\n",
    "    embedding = embedding_model.encode(qa_text)\n",
    "    embeddings.append(embedding)\n",
    "    doc['question_text_vector'] = embedding\n",
    "\n",
    "X = np.array(embeddings)\n",
    "X.shape"
   ]
  },
  {
   "cell_type": "code",
   "execution_count": 11,
   "metadata": {},
   "outputs": [
    {
     "data": {
      "text/plain": [
       "'How do I sign up? Machine Learning Zoomcamp FAQ\\nThe purpose of this document is to capture frequently asked technical questions.\\nWe did this for our data engineering course and it worked quite well. Check this document for inspiration on how to structure your questions and answers:\\nData Engineering Zoomcamp FAQ\\nIn the course GitHub repository there’s a link. Here it is: https://airtable.com/shryxwLd0COOEaqXo\\nwork'"
      ]
     },
     "execution_count": 11,
     "metadata": {},
     "output_type": "execute_result"
    }
   ],
   "source": [
    "f\"{documents_ml[0]['question']} {documents_ml[0]['text']}\""
   ]
  },
  {
   "cell_type": "code",
   "execution_count": 16,
   "metadata": {},
   "outputs": [
    {
     "data": {
      "text/plain": [
       "0.6506573"
      ]
     },
     "execution_count": 16,
     "metadata": {},
     "output_type": "execute_result"
    }
   ],
   "source": [
    "scores = X.dot(v)\n",
    "scores.max()"
   ]
  },
  {
   "cell_type": "code",
   "execution_count": 18,
   "metadata": {},
   "outputs": [
    {
     "data": {
      "text/plain": [
       "[{'text': 'Yes, you can. You won’t be able to submit some of the homeworks, but you can still take part in the course.\\nIn order to get a certificate, you need to submit 2 out of 3 course projects and review 3 peers’ Projects by the deadline. It means that if you join the course at the end of November and manage to work on two projects, you will still be eligible for a certificate.',\n",
       "  'section': 'General course-related questions',\n",
       "  'question': 'The course has already started. Can I still join it?',\n",
       "  'course': 'machine-learning-zoomcamp',\n",
       "  'id': 'ee58a693'},\n",
       " {'text': 'Welcome to the course! Go to the course page (http://mlzoomcamp.com/), scroll down and start going through the course materials. Then read everything in the cohort folder for your cohort’s year.\\nClick on the links and start watching the videos. Also watch office hours from previous cohorts. Go to DTC youtube channel and click on Playlists and search for {course yyyy}. ML Zoomcamp was first launched in 2021.\\nOr you can just use this link: http://mlzoomcamp.com/#syllabus',\n",
       "  'section': 'General course-related questions',\n",
       "  'question': 'I just joined. What should I do next? How can I access course materials?',\n",
       "  'course': 'machine-learning-zoomcamp',\n",
       "  'id': '0a278fb2'},\n",
       " {'text': \"The process is automated now, so you should receive the email eventually. If you haven’t, check your promotions tab in Gmail as well as spam.\\nIf you unsubscribed from our newsletter, you won't get course related updates too.\\nBut don't worry, it’s not a problem. To make sure you don’t miss anything, join the #course-ml-zoomcamp channel in Slack and our telegram channel with announcements. This is enough to follow the course.\",\n",
       "  'section': 'General course-related questions',\n",
       "  'question': \"I filled the form, but haven't received a confirmation email. Is it normal?\",\n",
       "  'course': 'machine-learning-zoomcamp',\n",
       "  'id': '6ba259b1'},\n",
       " {'text': 'Technically, yes. Advisable? Not really. Reasons:\\nSome homework(s) asks for specific python library versions.\\nAnswers may not match in MCQ options if using different languages other than Python 3.10 (the recommended version for 2023 cohort)\\nAnd as for midterms/capstones, your peer-reviewers may not know these other languages. Do you want to be penalized for others not knowing these other languages?\\nYou can create a separate repo using course’s lessons but written in other languages for your own learnings, but not advisable for submissions.\\ntx[source]',\n",
       "  'section': 'Miscellaneous',\n",
       "  'question': 'Can I do the course in other languages, like R or Scala?',\n",
       "  'course': 'machine-learning-zoomcamp',\n",
       "  'id': '9f261648'},\n",
       " {'text': 'We won’t re-record the course videos. The focus of the course and the skills we want to teach remained the same, and the videos are still up-to-date.\\nIf you haven’t taken part in the previous iteration, you can start watching the videos. It’ll be useful for you and you will learn new things. However, we recommend using Python 3.10 now instead of Python 3.8.',\n",
       "  'section': 'General course-related questions',\n",
       "  'question': 'The course videos are from the previous iteration. Will you release new ones or we’ll use the videos from 2021?',\n",
       "  'course': 'machine-learning-zoomcamp',\n",
       "  'id': 'e7ba6b8a'}]"
      ]
     },
     "execution_count": 18,
     "metadata": {},
     "output_type": "execute_result"
    }
   ],
   "source": [
    "class VectorSearchEngine():\n",
    "    def __init__(self, documents, embeddings):\n",
    "        self.documents = documents\n",
    "        self.embeddings = embeddings\n",
    "\n",
    "    def search(self, v_query, num_results=10):\n",
    "        scores = self.embeddings.dot(v_query)\n",
    "        idx = np.argsort(-scores)[:num_results]\n",
    "        return [self.documents[i] for i in idx]\n",
    "\n",
    "search_engine = VectorSearchEngine(documents=documents_ml, embeddings=X)\n",
    "search_engine.search(v, num_results=5)"
   ]
  },
  {
   "cell_type": "code",
   "execution_count": 19,
   "metadata": {},
   "outputs": [],
   "source": [
    "import pandas as pd\n",
    "\n",
    "base_url = 'https://github.com/DataTalksClub/llm-zoomcamp/blob/main'\n",
    "relative_url = '03-vector-search/eval/ground-truth-data.csv'\n",
    "ground_truth_url = f'{base_url}/{relative_url}?raw=1'\n",
    "\n",
    "df_ground_truth = pd.read_csv(ground_truth_url)\n",
    "df_ground_truth = df_ground_truth[df_ground_truth.course == 'machine-learning-zoomcamp']\n",
    "ground_truth = df_ground_truth.to_dict(orient='records')"
   ]
  },
  {
   "cell_type": "code",
   "execution_count": 20,
   "metadata": {},
   "outputs": [
    {
     "data": {
      "text/plain": [
       "{'question': 'Where can I sign up for the course?',\n",
       " 'course': 'machine-learning-zoomcamp',\n",
       " 'document': '0227b872'}"
      ]
     },
     "execution_count": 20,
     "metadata": {},
     "output_type": "execute_result"
    }
   ],
   "source": [
    "ground_truth[0]"
   ]
  },
  {
   "cell_type": "code",
   "execution_count": 21,
   "metadata": {},
   "outputs": [],
   "source": [
    "from util_evaluate import evaluate"
   ]
  },
  {
   "cell_type": "code",
   "execution_count": 22,
   "metadata": {},
   "outputs": [],
   "source": [
    "def question_vector_vse(q):\n",
    "    question = q['question']\n",
    "    #course = q['course']\n",
    "\n",
    "    v_q = embedding_model.encode(question)\n",
    "\n",
    "    search_engine = VectorSearchEngine(documents=documents_ml, embeddings=X)\n",
    "    \n",
    "    return search_engine.search(v_q, num_results=5)"
   ]
  },
  {
   "cell_type": "code",
   "execution_count": 23,
   "metadata": {},
   "outputs": [
    {
     "data": {
      "application/vnd.jupyter.widget-view+json": {
       "model_id": "f66fb1e661a34d028fbe2014e81ea008",
       "version_major": 2,
       "version_minor": 0
      },
      "text/plain": [
       "  0%|          | 0/1830 [00:00<?, ?it/s]"
      ]
     },
     "metadata": {},
     "output_type": "display_data"
    },
    {
     "data": {
      "text/plain": [
       "{'hit_rate': 0.9398907103825137}"
      ]
     },
     "execution_count": 23,
     "metadata": {},
     "output_type": "execute_result"
    }
   ],
   "source": [
    "evaluate(ground_truth, question_vector_vse)"
   ]
  },
  {
   "cell_type": "code",
   "execution_count": 25,
   "metadata": {},
   "outputs": [
    {
     "data": {
      "text/plain": [
       "{'text': 'Machine Learning Zoomcamp FAQ\\nThe purpose of this document is to capture frequently asked technical questions.\\nWe did this for our data engineering course and it worked quite well. Check this document for inspiration on how to structure your questions and answers:\\nData Engineering Zoomcamp FAQ\\nIn the course GitHub repository there’s a link. Here it is: https://airtable.com/shryxwLd0COOEaqXo\\nwork',\n",
       " 'section': 'General course-related questions',\n",
       " 'question': 'How do I sign up?',\n",
       " 'course': 'machine-learning-zoomcamp',\n",
       " 'id': '0227b872',\n",
       " 'question_text_vector': array([ 8.80590528e-02,  1.55935483e-02,  7.92558193e-02,  2.52757873e-02,\n",
       "         7.55765066e-02, -3.90596949e-02, -4.13813852e-02,  2.52918135e-02,\n",
       "         2.43241284e-02,  3.62585997e-03, -7.28285545e-03, -3.28751542e-02,\n",
       "         6.12956472e-02, -5.71101010e-02,  1.16774784e-02, -1.79442130e-02,\n",
       "         4.49206047e-02, -5.41605875e-02, -1.92261033e-03,  1.48329930e-02,\n",
       "         7.91360065e-03, -3.43127362e-02,  1.21480487e-02,  1.27185713e-02,\n",
       "        -1.60092711e-02,  7.12137856e-03,  1.58389509e-02, -3.27488902e-04,\n",
       "         3.01296543e-03, -4.58918400e-02, -1.34775438e-03,  2.01149546e-02,\n",
       "         2.33724471e-02, -4.28200746e-03, -3.09384037e-02,  1.94302748e-03,\n",
       "        -1.88219752e-02,  5.35160303e-03,  1.29352352e-02, -3.23957913e-02,\n",
       "         3.10556218e-02,  5.12981648e-03, -3.24394932e-04, -3.15541998e-02,\n",
       "         1.93377174e-02, -6.38601556e-02, -3.05381045e-02, -6.27884790e-02,\n",
       "        -1.74859781e-02,  3.52949575e-02, -2.98071913e-02,  7.45346099e-02,\n",
       "        -2.06183232e-02, -1.79156959e-02,  1.86262634e-02,  5.31014837e-02,\n",
       "         1.19287465e-02, -5.18544056e-02, -1.61922548e-03,  3.58705893e-02,\n",
       "        -6.52320497e-03,  4.53287326e-02, -1.06173949e-02,  1.02415644e-02,\n",
       "        -4.41201888e-02, -7.07985684e-02,  1.33665288e-02, -2.05062665e-02,\n",
       "         3.62042226e-02, -3.39450836e-02,  3.25139165e-02,  2.22205129e-02,\n",
       "        -3.24136913e-02, -3.93159091e-02,  2.75360711e-04,  2.43686568e-02,\n",
       "         1.57890059e-02,  2.50409115e-02,  1.70958682e-03, -2.63328431e-04,\n",
       "         4.40217033e-02, -5.46364971e-02,  2.34349463e-02,  2.99487058e-02,\n",
       "         1.41274724e-02, -2.91330498e-02, -6.47386396e-03, -3.54053676e-02,\n",
       "         1.71305165e-02,  2.90904641e-02,  1.46859018e-02,  8.54341406e-03,\n",
       "        -3.44416797e-02, -1.04836151e-02,  3.15485746e-02, -8.74644071e-02,\n",
       "        -2.11829543e-02, -5.05227298e-02, -7.52344867e-03,  4.42793556e-02,\n",
       "         3.77510227e-02, -1.24977960e-03,  6.45406265e-03, -1.53079126e-02,\n",
       "         1.66407283e-02,  5.46391420e-02,  1.78500600e-02, -7.61282956e-03,\n",
       "        -4.61103097e-02,  4.10019495e-02, -4.52273414e-02, -2.77623236e-02,\n",
       "         1.95288528e-02, -6.11867569e-02,  1.12644220e-02,  5.08541614e-03,\n",
       "         4.85851355e-02, -9.06991120e-03, -9.79336444e-03,  1.72461290e-02,\n",
       "        -7.30905160e-02,  5.36574014e-02, -3.24015319e-02,  1.24104507e-02,\n",
       "         1.06903296e-02,  3.30721624e-02,  4.14839610e-02,  3.38428654e-02,\n",
       "        -1.12890464e-03, -9.08526033e-02,  3.76021978e-03, -3.49575207e-02,\n",
       "         1.31473681e-02,  1.33827794e-02,  3.44474465e-02,  6.85054511e-02,\n",
       "        -1.42454617e-02, -5.42298891e-02, -8.57380219e-03,  2.42687780e-02,\n",
       "         5.15870042e-02, -2.89775599e-02, -1.47677660e-02, -1.08239362e-02,\n",
       "        -5.66393621e-02, -2.07525073e-03, -3.71209942e-02,  4.00512712e-03,\n",
       "        -5.97901158e-02, -1.55888768e-02,  2.72703748e-02,  1.94720626e-02,\n",
       "         1.87415648e-02, -3.74510251e-02,  2.62067262e-02,  7.50287026e-02,\n",
       "         2.16101240e-02, -1.37813129e-02,  5.01988083e-02, -6.47027371e-03,\n",
       "         5.67430034e-02, -4.03868221e-02, -1.20674968e-02,  8.55052471e-02,\n",
       "        -2.71649961e-03,  2.78823506e-02, -4.38817367e-02, -2.82745175e-02,\n",
       "         1.92068573e-02, -4.36236970e-02,  3.98129337e-02, -5.63067161e-02,\n",
       "         1.37331067e-02,  4.01088549e-03, -7.01445201e-03, -1.51919499e-02,\n",
       "         4.40158024e-02,  2.72325277e-02,  3.32806744e-02,  3.21899466e-02,\n",
       "        -8.18990618e-02, -5.92770800e-02,  2.22220477e-02, -2.69076824e-02,\n",
       "         4.15942147e-02, -1.37761412e-02,  4.10629958e-02,  4.05325294e-02,\n",
       "        -5.58696501e-02,  3.60302478e-02, -6.35681208e-03, -1.65047310e-02,\n",
       "        -1.07167859e-03, -7.76118599e-03,  5.12158871e-02, -3.07670701e-02,\n",
       "        -3.98046896e-02,  2.19666455e-02, -9.50629823e-03,  2.66281273e-02,\n",
       "         3.57357077e-02,  5.89501299e-02,  5.54055814e-03, -1.41580345e-03,\n",
       "        -2.31177304e-02,  2.41293362e-03, -2.71170810e-02, -3.01101282e-02,\n",
       "        -1.71695370e-02, -3.58681865e-02, -4.03450690e-02,  2.02254299e-02,\n",
       "         1.31837679e-02, -1.05260238e-02,  1.65335145e-02, -1.22696450e-02,\n",
       "        -3.93680483e-02,  9.12598614e-03, -1.34845776e-02,  2.73655448e-02,\n",
       "         3.88677791e-02, -3.65220942e-03, -2.11339258e-02,  2.25957017e-04,\n",
       "        -3.12622264e-02, -3.47088836e-02, -4.12916020e-02,  2.91098561e-02,\n",
       "         5.44958934e-02, -1.32070005e-01,  9.59288701e-03, -1.37135331e-02,\n",
       "         4.40675467e-02, -1.03825808e-01,  6.36643097e-02,  8.60992260e-03,\n",
       "         1.49037736e-02,  8.22820468e-04, -2.20600106e-02, -9.55954369e-04,\n",
       "        -4.45745070e-04, -1.26143321e-02, -4.75995652e-02, -2.14227550e-02,\n",
       "         4.69317958e-02,  2.59529073e-02, -1.09704807e-02, -1.69420633e-02,\n",
       "         7.51990685e-03, -5.15509695e-02,  4.28996533e-02,  1.28123187e-03,\n",
       "        -1.04662776e-02, -1.64835844e-02, -4.98015136e-02,  4.39344123e-02,\n",
       "         5.84347360e-02, -4.44175526e-02,  6.89989887e-03,  5.39160557e-02,\n",
       "         1.75765753e-02,  7.08567863e-03, -2.18797270e-02, -1.89143023e-03,\n",
       "         1.05513325e-02, -5.98141588e-02, -3.13123837e-02, -2.73168515e-02,\n",
       "         3.12896781e-02,  5.49116768e-02, -1.85728744e-02, -2.15360932e-02,\n",
       "         6.17362894e-02,  7.07532093e-03,  2.01494396e-02, -4.06040736e-02,\n",
       "         2.30053049e-02,  2.01894883e-02,  1.80803407e-02,  3.35160829e-02,\n",
       "        -2.27059089e-02, -5.81537224e-02,  3.04264668e-02, -1.40142040e-02,\n",
       "         2.95398235e-02,  1.17535172e-02, -7.83733800e-02,  2.78972406e-02,\n",
       "        -4.30106334e-02, -7.59009346e-02,  4.92750779e-02,  7.59606138e-02,\n",
       "         3.54490872e-03,  5.81535846e-02,  4.69778441e-02, -4.00011148e-03,\n",
       "        -4.00546612e-03,  2.51615122e-02, -9.95811969e-02,  3.34291123e-02,\n",
       "        -3.01808584e-03,  3.01541518e-02,  4.54931632e-02, -7.25229904e-02,\n",
       "         4.01625857e-02, -1.16757173e-02, -6.19703997e-03, -9.54162404e-02,\n",
       "        -3.01121734e-02, -2.74963994e-02, -4.44820076e-02,  1.52521394e-03,\n",
       "        -6.31317645e-02, -8.02881345e-02,  4.55777943e-02,  3.08043733e-02,\n",
       "        -4.65144776e-03, -2.48239934e-03, -1.87035576e-02,  3.56814340e-02,\n",
       "        -8.61485824e-02, -8.76673125e-03,  5.94232902e-02,  7.03033656e-02,\n",
       "        -3.35510913e-03,  3.14285159e-02,  3.35557424e-02,  4.47359644e-02,\n",
       "        -1.82780158e-02,  4.33739601e-03, -1.56071940e-02,  4.82698269e-02,\n",
       "         5.78109361e-02, -1.55586109e-03, -3.07916403e-02,  3.06997541e-02,\n",
       "         3.05095799e-02,  4.37345244e-02, -2.46431548e-02, -1.98744517e-02,\n",
       "         7.25641195e-03,  3.61755751e-02, -1.86710358e-02, -1.69779789e-02,\n",
       "         5.28293438e-02,  1.72062847e-03,  3.34720723e-02, -6.57697096e-02,\n",
       "        -3.20816785e-02,  4.12177108e-03,  8.29502661e-03, -4.56412174e-02,\n",
       "         3.20225768e-02, -2.28897668e-02,  5.52556477e-02,  4.02578451e-02,\n",
       "        -2.90956870e-02, -3.44284368e-03, -1.38216969e-02, -6.29018701e-04,\n",
       "         2.53443997e-02,  1.89794172e-02, -4.45094444e-02, -4.78352718e-02,\n",
       "         3.22866440e-02,  6.68825358e-02, -8.67476407e-03, -7.80023867e-03,\n",
       "         2.92888121e-03, -2.42292266e-02, -2.09650975e-02, -1.09208792e-01,\n",
       "        -2.94364542e-02,  1.47712268e-02, -4.47422117e-02, -2.71011032e-02,\n",
       "        -3.91134899e-03,  1.68099739e-02,  3.11841425e-02,  1.24178706e-02,\n",
       "         6.59736386e-03, -4.44687949e-03, -3.45145576e-02, -1.24449958e-03,\n",
       "         5.61033227e-02, -4.12151478e-02,  4.74843197e-02,  3.92921194e-02,\n",
       "        -5.78539111e-02, -4.47588228e-02,  1.95152722e-02,  3.01113036e-02,\n",
       "        -8.72347225e-03, -2.85054818e-02, -7.27255270e-03,  3.58912759e-02,\n",
       "        -7.09610060e-02, -6.56752810e-02,  5.03814453e-03,  2.90020220e-02,\n",
       "         4.08615125e-03,  7.97066744e-03, -2.29644384e-02, -4.41172123e-02,\n",
       "         4.12212275e-02,  2.17066109e-02,  1.23129934e-02, -1.74234305e-02,\n",
       "        -1.55699085e-02, -1.17437784e-02,  5.18719628e-02,  3.44448234e-03,\n",
       "        -6.66774958e-02,  3.35144438e-02, -4.39756690e-03, -3.66432369e-02,\n",
       "         7.48344585e-02,  1.37544079e-02, -5.05722612e-02, -1.69507712e-02,\n",
       "        -9.13899243e-02,  3.94619927e-02, -4.91533838e-02,  2.32399292e-02,\n",
       "        -6.95739500e-03, -2.49377396e-02,  1.79814026e-02, -3.91750745e-02,\n",
       "         2.72794235e-02,  5.39087057e-02,  6.70257062e-02,  2.87340358e-02,\n",
       "         7.15201721e-03,  4.48691435e-02, -2.89590228e-02,  2.67861560e-02,\n",
       "         6.71392903e-02, -3.71879153e-03, -2.13471353e-02,  4.02928814e-02,\n",
       "         5.37431575e-02,  2.69312505e-03,  3.33235748e-02,  4.19459864e-02,\n",
       "         3.77101600e-02,  1.00906594e-02,  1.64033808e-02,  1.37284100e-02,\n",
       "         4.92302403e-02,  5.35364226e-02,  5.79526201e-02, -3.29139158e-02,\n",
       "         1.22460658e-02,  2.88261436e-02, -4.93663223e-03,  2.96172518e-02,\n",
       "         6.32615061e-03, -4.79912311e-02, -3.14917229e-02, -3.97242345e-02,\n",
       "        -3.50666344e-02,  2.99804704e-03, -9.44073498e-03,  2.62554619e-03,\n",
       "         9.90500487e-03, -5.18644899e-02,  2.04040613e-02,  3.75541709e-02,\n",
       "         8.65955278e-03,  3.73828635e-02,  2.54471917e-02, -1.32635077e-02,\n",
       "         8.06262940e-02,  2.10315734e-02, -1.99040771e-02, -1.00638522e-02,\n",
       "        -3.93789001e-02, -3.32227536e-02,  1.41281597e-02,  4.00279835e-02,\n",
       "        -7.60373333e-03, -4.89356741e-02, -2.67797466e-02, -5.59408367e-02,\n",
       "         3.21788639e-02,  8.22695252e-03,  3.76134627e-02,  8.17617960e-03,\n",
       "        -1.37846982e-02, -2.16961056e-02,  1.27261616e-02, -6.38870476e-03,\n",
       "        -8.46950524e-03, -6.06378634e-03, -1.16485571e-02,  1.15113994e-02,\n",
       "         2.72039752e-02, -1.29375355e-02, -1.30015276e-02,  3.71455401e-02,\n",
       "         2.18766071e-02,  2.41833478e-02,  3.43345251e-04, -1.44565478e-02,\n",
       "         3.24437879e-02,  5.78669794e-02,  1.25016235e-02,  1.83984302e-02,\n",
       "        -7.32085481e-02, -1.24307489e-02, -1.85830221e-02, -2.32730201e-03,\n",
       "         1.47508159e-02,  1.19954729e-02, -2.08627619e-03, -2.90985536e-02,\n",
       "         3.42271989e-04, -2.48183012e-02, -2.78203450e-02, -3.26306373e-03,\n",
       "        -1.13068568e-02, -3.82190756e-02, -8.83376822e-02, -2.67931893e-02,\n",
       "        -4.97603267e-02,  1.06248008e-02, -2.03505848e-02,  4.61896285e-02,\n",
       "         3.04142460e-02,  7.39258900e-02, -1.93729140e-02, -6.24436624e-02,\n",
       "        -4.30182517e-02, -2.44439952e-03,  2.31976081e-02,  2.40072478e-02,\n",
       "        -6.32212386e-02, -1.28707765e-02, -1.06627000e-02, -1.21628409e-02,\n",
       "         4.63577360e-02,  8.66870675e-03, -3.91136184e-02,  5.18054049e-03,\n",
       "        -3.37269567e-02,  4.08052690e-02,  4.56021838e-02, -5.35723800e-03,\n",
       "         1.47815049e-02,  6.52762968e-03, -1.91998444e-02,  1.32419588e-02,\n",
       "         1.28353182e-02,  3.14028077e-02,  2.19752900e-02, -1.87768433e-02,\n",
       "         9.01833549e-03,  1.66758746e-02,  1.36962370e-03,  4.85401601e-02,\n",
       "        -5.04996590e-02,  2.72835791e-02, -2.80786445e-03,  8.74805450e-03,\n",
       "         2.16660704e-02,  1.66531634e-02, -4.64341119e-02, -1.94114055e-02,\n",
       "         1.49265658e-02, -2.04601996e-02, -9.30299982e-02, -3.57578206e-03,\n",
       "         4.36929055e-02,  4.18227762e-02, -1.04739890e-02,  9.13388561e-03,\n",
       "        -1.26577094e-02,  9.28765221e-04,  3.03165112e-02,  9.25376918e-03,\n",
       "        -1.58128969e-03,  6.60841465e-02,  1.97659992e-02, -3.60443816e-02,\n",
       "        -3.43122310e-03, -3.59755829e-02,  1.49512002e-02, -2.88110375e-02,\n",
       "         1.71100330e-02,  4.95878048e-02,  3.53193879e-02,  4.19225693e-02,\n",
       "         4.83730398e-02,  1.96336005e-02, -1.70033122e-03,  9.81865823e-02,\n",
       "         1.77093912e-02, -3.84562416e-03, -4.52681482e-02, -4.13472485e-03,\n",
       "        -5.71960360e-02,  1.04758460e-02,  1.73035171e-02,  4.14520763e-02,\n",
       "         1.68829765e-02, -1.23575544e-02, -1.35784848e-02,  6.87891096e-02,\n",
       "         1.86708700e-02,  5.50276190e-02,  2.71758195e-02, -3.02900933e-02,\n",
       "         4.20797728e-02,  3.58545259e-02, -7.05273151e-02,  8.97804648e-03,\n",
       "         3.04065179e-02, -4.93477285e-03, -3.86132933e-02, -6.36185035e-02,\n",
       "        -1.28050530e-02,  1.45554775e-02, -3.86997499e-02, -1.90095361e-02,\n",
       "        -4.16538380e-02, -5.53315282e-02,  3.14248144e-03, -4.05708812e-02,\n",
       "        -4.65663569e-03,  1.20833972e-02,  3.92553657e-02, -1.48489513e-02,\n",
       "        -4.43880670e-02, -1.95002388e-02, -2.00037714e-02, -3.84879224e-02,\n",
       "         6.50727004e-02,  1.58443500e-03,  2.42224038e-02,  2.11767405e-02,\n",
       "        -2.80457176e-02,  5.06496541e-02, -3.17925327e-02, -3.93060297e-02,\n",
       "        -7.48629048e-02, -1.47938803e-02,  2.93556903e-03, -1.90884306e-03,\n",
       "        -4.62152585e-02,  2.79246122e-02,  5.36212437e-02,  5.08887507e-02,\n",
       "        -3.63443419e-02,  4.83042337e-02,  2.08877884e-02,  4.74292338e-02,\n",
       "         4.92656603e-03, -2.71410141e-02,  5.47686033e-02, -4.14410271e-02,\n",
       "        -5.68513758e-03, -3.04765329e-02,  3.94588104e-03, -3.12194899e-02,\n",
       "        -4.37382944e-02,  2.12004017e-02, -1.80493910e-02,  2.81700287e-02,\n",
       "         3.96552011e-02, -5.35950176e-02,  5.33269607e-02,  7.67337205e-03,\n",
       "        -2.33186651e-02, -1.42170051e-02,  5.31647503e-02, -3.49745862e-02,\n",
       "         6.54080957e-02,  4.37313430e-02, -7.25451857e-02,  4.89383824e-02,\n",
       "        -9.12457798e-03,  4.59331796e-02, -3.46429609e-02, -2.72386167e-02,\n",
       "        -3.04769948e-02, -4.05410975e-02,  5.07943444e-02,  2.39161197e-02,\n",
       "        -4.21275981e-02, -7.53407627e-02, -6.36631084e-05,  2.31820364e-02,\n",
       "         2.98201442e-02, -4.67950888e-02,  1.05024846e-02, -8.33882578e-03,\n",
       "        -2.53908839e-02, -2.78923661e-03, -5.80482446e-02, -3.58987972e-02,\n",
       "         1.04234098e-02, -3.31454054e-02, -2.29870919e-02,  1.90615077e-02,\n",
       "        -4.05621082e-02,  3.41114122e-03,  1.07715875e-02,  5.10822423e-02,\n",
       "        -3.88363712e-02, -3.84784862e-02,  4.38734442e-02, -3.46118957e-02,\n",
       "         1.73041131e-02,  1.62715707e-02,  2.14490071e-02, -2.26181746e-02,\n",
       "        -1.69366132e-02,  2.30086483e-02,  2.55133230e-02,  8.10869485e-02,\n",
       "         5.52573204e-02,  1.81327257e-02,  2.32691057e-02,  7.37191811e-02,\n",
       "        -2.53651906e-02,  1.41270263e-02,  7.17899716e-03,  4.39648479e-02,\n",
       "        -1.27545316e-02,  2.30465382e-02,  3.01264413e-02, -7.24178506e-03,\n",
       "         3.82401384e-02,  5.56619577e-02, -6.76997304e-02, -2.43170392e-02,\n",
       "        -1.17052738e-02, -1.58955567e-02,  4.49812822e-02, -5.12632392e-02,\n",
       "         2.38025878e-02,  3.47883925e-02, -3.94906700e-02, -3.04278433e-02,\n",
       "         3.11546195e-02, -2.13785656e-02,  3.09259649e-02,  1.42324967e-02,\n",
       "        -6.56462684e-02,  1.46022765e-02,  3.42594273e-03,  4.44189534e-02,\n",
       "         2.20310921e-03, -1.86533071e-02,  1.99844893e-02, -5.16026020e-02,\n",
       "        -4.81741503e-02,  1.30593171e-02,  1.76972952e-02, -1.19784456e-02,\n",
       "        -9.83291492e-03, -7.01445490e-02, -6.58488795e-02,  6.75936565e-02,\n",
       "        -2.80170068e-02,  7.45117618e-03,  2.41914298e-03,  1.14712827e-02],\n",
       "       dtype=float32)}"
      ]
     },
     "execution_count": 25,
     "metadata": {},
     "output_type": "execute_result"
    }
   ],
   "source": [
    "documents_ml[0]"
   ]
  },
  {
   "cell_type": "code",
   "execution_count": 29,
   "metadata": {},
   "outputs": [
    {
     "data": {
      "text/plain": [
       "ObjectApiResponse({'acknowledged': True, 'shards_acknowledged': True, 'index': 'course-questions'})"
      ]
     },
     "execution_count": 29,
     "metadata": {},
     "output_type": "execute_result"
    }
   ],
   "source": [
    "from elasticsearch import Elasticsearch\n",
    "\n",
    "es_client = Elasticsearch('http://localhost:9200') \n",
    "\n",
    "index_settings = {\n",
    "    \"settings\": {\n",
    "        \"number_of_shards\": 1,\n",
    "        \"number_of_replicas\": 0\n",
    "    },\n",
    "    \"mappings\": {\n",
    "        \"properties\": {\n",
    "            \"text\": {\"type\": \"text\"},\n",
    "            \"section\": {\"type\": \"text\"},\n",
    "            \"question\": {\"type\": \"text\"},\n",
    "            \"course\": {\"type\": \"keyword\"},\n",
    "            \"id\": {\"type\": \"keyword\"},            \n",
    "            \"question_text_vector\": {\n",
    "                \"type\": \"dense_vector\",\n",
    "                \"dims\": 768,\n",
    "                \"index\": True,\n",
    "                \"similarity\": \"cosine\"\n",
    "            },\n",
    "        }\n",
    "    }\n",
    "}\n",
    "\n",
    "index_name = \"course-questions\"\n",
    "\n",
    "es_client.indices.delete(index=index_name, ignore_unavailable=True)\n",
    "es_client.indices.create(index=index_name, body=index_settings)"
   ]
  },
  {
   "cell_type": "code",
   "execution_count": 32,
   "metadata": {},
   "outputs": [
    {
     "data": {
      "application/vnd.jupyter.widget-view+json": {
       "model_id": "5d02a853a18647a6a4fe14bd4bbbce1e",
       "version_major": 2,
       "version_minor": 0
      },
      "text/plain": [
       "  0%|          | 0/375 [00:00<?, ?it/s]"
      ]
     },
     "metadata": {},
     "output_type": "display_data"
    }
   ],
   "source": [
    "from tqdm.auto import tqdm\n",
    "for doc in tqdm(documents_ml):\n",
    "    es_client.index(index=index_name, document=doc)"
   ]
  },
  {
   "cell_type": "code",
   "execution_count": 42,
   "metadata": {},
   "outputs": [],
   "source": [
    "def elastic_search_knn(field, vector, course):\n",
    "    knn = {\n",
    "        \"field\": field,\n",
    "        \"query_vector\": vector,\n",
    "        \"k\": 5,\n",
    "        \"num_candidates\": 10000,\n",
    "        \"filter\": {\n",
    "            \"term\": {\n",
    "                \"course\": course\n",
    "            }\n",
    "        }\n",
    "    }\n",
    "\n",
    "    search_query = {\n",
    "        \"knn\": knn,\n",
    "        \"_source\": [\"text\", \"section\", \"question\", \"course\", \"id\"]\n",
    "    }\n",
    "\n",
    "    es_results = es_client.search(\n",
    "        index=index_name,\n",
    "        body=search_query\n",
    "    )\n",
    "    \n",
    "    result_docs = []\n",
    "    \n",
    "    for hit in es_results['hits']['hits']:\n",
    "        source = hit['_source']\n",
    "        source['score'] = hit['_score']\n",
    "        result_docs.append(source)\n",
    "\n",
    "    return result_docs"
   ]
  },
  {
   "cell_type": "code",
   "execution_count": 43,
   "metadata": {},
   "outputs": [],
   "source": [
    "result_es = elastic_search_knn('question_text_vector', v, 'machine-learning-zoomcamp')\n"
   ]
  },
  {
   "cell_type": "code",
   "execution_count": 44,
   "metadata": {},
   "outputs": [
    {
     "data": {
      "text/plain": [
       "[{'question': 'The course has already started. Can I still join it?',\n",
       "  'course': 'machine-learning-zoomcamp',\n",
       "  'section': 'General course-related questions',\n",
       "  'text': 'Yes, you can. You won’t be able to submit some of the homeworks, but you can still take part in the course.\\nIn order to get a certificate, you need to submit 2 out of 3 course projects and review 3 peers’ Projects by the deadline. It means that if you join the course at the end of November and manage to work on two projects, you will still be eligible for a certificate.',\n",
       "  'id': 'ee58a693',\n",
       "  'score': 0.82532895},\n",
       " {'question': 'I just joined. What should I do next? How can I access course materials?',\n",
       "  'course': 'machine-learning-zoomcamp',\n",
       "  'section': 'General course-related questions',\n",
       "  'text': 'Welcome to the course! Go to the course page (http://mlzoomcamp.com/), scroll down and start going through the course materials. Then read everything in the cohort folder for your cohort’s year.\\nClick on the links and start watching the videos. Also watch office hours from previous cohorts. Go to DTC youtube channel and click on Playlists and search for {course yyyy}. ML Zoomcamp was first launched in 2021.\\nOr you can just use this link: http://mlzoomcamp.com/#syllabus',\n",
       "  'id': '0a278fb2',\n",
       "  'score': 0.73585373},\n",
       " {'question': \"I filled the form, but haven't received a confirmation email. Is it normal?\",\n",
       "  'course': 'machine-learning-zoomcamp',\n",
       "  'section': 'General course-related questions',\n",
       "  'text': \"The process is automated now, so you should receive the email eventually. If you haven’t, check your promotions tab in Gmail as well as spam.\\nIf you unsubscribed from our newsletter, you won't get course related updates too.\\nBut don't worry, it’s not a problem. To make sure you don’t miss anything, join the #course-ml-zoomcamp channel in Slack and our telegram channel with announcements. This is enough to follow the course.\",\n",
       "  'id': '6ba259b1',\n",
       "  'score': 0.7295},\n",
       " {'question': 'Can I do the course in other languages, like R or Scala?',\n",
       "  'course': 'machine-learning-zoomcamp',\n",
       "  'section': 'Miscellaneous',\n",
       "  'text': 'Technically, yes. Advisable? Not really. Reasons:\\nSome homework(s) asks for specific python library versions.\\nAnswers may not match in MCQ options if using different languages other than Python 3.10 (the recommended version for 2023 cohort)\\nAnd as for midterms/capstones, your peer-reviewers may not know these other languages. Do you want to be penalized for others not knowing these other languages?\\nYou can create a separate repo using course’s lessons but written in other languages for your own learnings, but not advisable for submissions.\\ntx[source]',\n",
       "  'id': '9f261648',\n",
       "  'score': 0.72849524},\n",
       " {'question': 'The course videos are from the previous iteration. Will you release new ones or we’ll use the videos from 2021?',\n",
       "  'course': 'machine-learning-zoomcamp',\n",
       "  'section': 'General course-related questions',\n",
       "  'text': 'We won’t re-record the course videos. The focus of the course and the skills we want to teach remained the same, and the videos are still up-to-date.\\nIf you haven’t taken part in the previous iteration, you can start watching the videos. It’ll be useful for you and you will learn new things. However, we recommend using Python 3.10 now instead of Python 3.8.',\n",
       "  'id': 'e7ba6b8a',\n",
       "  'score': 0.7252791}]"
      ]
     },
     "execution_count": 44,
     "metadata": {},
     "output_type": "execute_result"
    }
   ],
   "source": [
    "result_es"
   ]
  },
  {
   "cell_type": "code",
   "execution_count": 47,
   "metadata": {},
   "outputs": [],
   "source": [
    "def question_vector_knn(q):\n",
    "    question = q['question']\n",
    "    course = q['course']\n",
    "\n",
    "    v_q = embedding_model.encode(question)\n",
    "\n",
    "    return elastic_search_knn('question_text_vector', v_q, course)"
   ]
  },
  {
   "cell_type": "code",
   "execution_count": 48,
   "metadata": {},
   "outputs": [
    {
     "data": {
      "application/vnd.jupyter.widget-view+json": {
       "model_id": "14594e4ed30b48688a34ab44208c10e7",
       "version_major": 2,
       "version_minor": 0
      },
      "text/plain": [
       "  0%|          | 0/1830 [00:00<?, ?it/s]"
      ]
     },
     "metadata": {},
     "output_type": "display_data"
    },
    {
     "data": {
      "text/plain": [
       "{'hit_rate': 0.9398907103825137}"
      ]
     },
     "execution_count": 48,
     "metadata": {},
     "output_type": "execute_result"
    }
   ],
   "source": [
    "evaluate(ground_truth, question_vector_knn)"
   ]
  }
 ],
 "metadata": {
  "kernelspec": {
   "display_name": "Python 3",
   "language": "python",
   "name": "python3"
  },
  "language_info": {
   "codemirror_mode": {
    "name": "ipython",
    "version": 3
   },
   "file_extension": ".py",
   "mimetype": "text/x-python",
   "name": "python",
   "nbconvert_exporter": "python",
   "pygments_lexer": "ipython3",
   "version": "3.10.13"
  }
 },
 "nbformat": 4,
 "nbformat_minor": 2
}
