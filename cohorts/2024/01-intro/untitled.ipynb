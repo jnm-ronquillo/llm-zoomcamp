{
 "cells": [
  {
   "cell_type": "code",
   "execution_count": 1,
   "metadata": {},
   "outputs": [],
   "source": [
    "import openai\n",
    "from openai import OpenAI\n",
    "from dotenv import load_dotenv"
   ]
  },
  {
   "cell_type": "code",
   "execution_count": 2,
   "metadata": {},
   "outputs": [
    {
     "data": {
      "text/plain": [
       "True"
      ]
     },
     "execution_count": 2,
     "metadata": {},
     "output_type": "execute_result"
    }
   ],
   "source": [
    "load_dotenv() "
   ]
  },
  {
   "cell_type": "code",
   "execution_count": 3,
   "metadata": {},
   "outputs": [],
   "source": [
    "client = OpenAI()"
   ]
  },
  {
   "cell_type": "code",
   "execution_count": 4,
   "metadata": {},
   "outputs": [],
   "source": [
    "response = client.chat.completions.create(\n",
    "    model='gpt-4o',\n",
    "    messages=[{\"role\":\"user\", \"content\": \"is it too late to join the course?\"}]\n",
    ")"
   ]
  },
  {
   "cell_type": "code",
   "execution_count": 5,
   "metadata": {},
   "outputs": [
    {
     "data": {
      "text/plain": [
       "\"The timing for joining a course can depend on various factors such as the specific deadlines set by the institution, the nature of the course (e.g., semester-based, self-paced, online), and the instructor's policies. Here are a few steps you can take to determine if you can still join the course:\\n\\n1. **Check the Enrollment Deadline:** Look up the course details on the institution's website to find the enrollment deadline.\\n\\n2. **Contact the Instructor:** Reach out to the course instructor directly to inquire about the possibility of joining late. They might allow you to enroll late, especially if you have a valid reason.\\n\\n3. **Contact the Admissions Office:** If you can't find the information online, the admissions office or registrar's office can provide details about enrollment deadlines and policies for late entry.\\n\\n4. **Review the Course Syllabus:** Sometimes the syllabus or course description will indicate when the last possible date to join or withdraw from the course is.\\n\\n5. **Consider Self-paced Options:** If it is an online or self-paced course, there may be more flexibility with enrollment dates.\\n\\nAct promptly to ensure you get accurate information and don't miss any potential opportunities to join the course.\""
      ]
     },
     "execution_count": 5,
     "metadata": {},
     "output_type": "execute_result"
    }
   ],
   "source": [
    "response.choices[0].message.content"
   ]
  }
 ],
 "metadata": {
  "kernelspec": {
   "display_name": "Python 3 (ipykernel)",
   "language": "python",
   "name": "python3"
  },
  "language_info": {
   "codemirror_mode": {
    "name": "ipython",
    "version": 3
   },
   "file_extension": ".py",
   "mimetype": "text/x-python",
   "name": "python",
   "nbconvert_exporter": "python",
   "pygments_lexer": "ipython3",
   "version": "3.10.13"
  }
 },
 "nbformat": 4,
 "nbformat_minor": 2
}
